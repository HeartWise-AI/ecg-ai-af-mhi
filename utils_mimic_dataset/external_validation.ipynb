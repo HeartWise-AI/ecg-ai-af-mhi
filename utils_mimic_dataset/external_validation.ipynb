{
 "cells": [
  {
   "cell_type": "code",
   "execution_count": 1,
   "metadata": {},
   "outputs": [],
   "source": [
    "import pandas as pd\n",
    "import numpy as np\n",
    "import matplotlib.pyplot as plt"
   ]
  },
  {
   "cell_type": "code",
   "execution_count": 2,
   "metadata": {},
   "outputs": [],
   "source": [
    "# load gz csv file\n",
    "df_ecg = pd.read_csv('final_ecg_rows_2.csv.gz', compression='gzip')\n",
    "df_patient = pd.read_csv('patient_rows_2.csv.gz', compression='gzip')\n",
    "df_pred = pd.read_csv('/media/data1/gjabbour/predictions.csv')"
   ]
  },
  {
   "cell_type": "code",
   "execution_count": 3,
   "metadata": {},
   "outputs": [
    {
     "name": "stdout",
     "output_type": "stream",
     "text": [
      "(795546, 12)\n",
      "(159608, 27)\n",
      "Index(['waveform_path', 'pred'], dtype='object')\n"
     ]
    }
   ],
   "source": [
    "print(df_ecg.shape)\n",
    "print(df_patient.shape)\n",
    "print(df_pred.columns)"
   ]
  },
  {
   "cell_type": "code",
   "execution_count": 4,
   "metadata": {},
   "outputs": [
    {
     "name": "stdout",
     "output_type": "stream",
     "text": [
      "(453753, 12)\n",
      "(453753, 12)\n"
     ]
    }
   ],
   "source": [
    "print(df_ecg[df_ecg['dt_af'].isnull()].shape)\n",
    "print(df_ecg[df_ecg['y_5y'].isnull()].shape)\n",
    "\n",
    "# replace rows where y_5y is null with 0\n",
    "df_ecg['y_5y'] = df_ecg['y_5y'].fillna(0)"
   ]
  },
  {
   "cell_type": "code",
   "execution_count": 5,
   "metadata": {},
   "outputs": [],
   "source": [
    "# add pred column from df_pred to df_ecg by matching waveform_path in df_pred with path in df_ecg\n",
    "df_ecg = pd.merge(df_ecg, df_pred, how='inner', left_on='path', right_on='waveform_path')"
   ]
  },
  {
   "cell_type": "code",
   "execution_count": 6,
   "metadata": {},
   "outputs": [],
   "source": [
    "# convert pred column to float\n",
    "df_ecg['pred'] = df_ecg['pred'].str.replace('[', '').str.replace(']', '').astype(float)"
   ]
  },
  {
   "cell_type": "code",
   "execution_count": 7,
   "metadata": {},
   "outputs": [],
   "source": [
    "# filter df_ecg \n",
    "df_ecg = df_ecg[((df_ecg['sinus'] == 1) & ((df_ecg['dt_af'] < 0) | (df_ecg['dt_af'].isnull())) & (df_ecg['age_at_ecg'] >= 18) & (df_ecg['dt_max'] > 0))]"
   ]
  },
  {
   "cell_type": "code",
   "execution_count": 8,
   "metadata": {},
   "outputs": [
    {
     "name": "stdout",
     "output_type": "stream",
     "text": [
      "         subject_id       afl      afib     sinus         dt_af  \\\n",
      "count  4.422810e+05  442281.0  442281.0  442281.0  76688.000000   \n",
      "mean   1.501549e+07       0.0       0.0       1.0   -755.408604   \n",
      "std    2.876757e+06       0.0       0.0       0.0    887.402740   \n",
      "min    1.000003e+07       0.0       0.0       1.0  -4299.000000   \n",
      "25%    1.253470e+07       0.0       0.0       1.0  -1207.000000   \n",
      "50%    1.500225e+07       0.0       0.0       1.0   -394.000000   \n",
      "75%    1.751054e+07       0.0       0.0       1.0    -33.000000   \n",
      "max    1.999999e+07       0.0       0.0       1.0     -1.000000   \n",
      "\n",
      "                y_5y         dt_max     age_at_ecg           pred  \n",
      "count  442281.000000  442281.000000  442281.000000  442281.000000  \n",
      "mean        0.149299     985.860677      61.156665       0.557496  \n",
      "std         0.356383    1054.337130      16.461466       0.241019  \n",
      "min         0.000000       1.000000      18.000000       0.001300  \n",
      "25%         0.000000      54.000000      51.000000       0.368000  \n",
      "50%         0.000000     613.000000      62.000000       0.529300  \n",
      "75%         0.000000    1634.000000      73.000000       0.753000  \n",
      "max         1.000000    4380.000000     100.000000       1.000000  \n"
     ]
    }
   ],
   "source": [
    "print(df_ecg.describe())"
   ]
  },
  {
   "cell_type": "code",
   "execution_count": 9,
   "metadata": {},
   "outputs": [
    {
     "name": "stdout",
     "output_type": "stream",
     "text": [
      "0.5838532586434837\n"
     ]
    }
   ],
   "source": [
    "# calculate AUC using y_5y for label and pred for prediction\n",
    "from sklearn.metrics import roc_auc_score\n",
    "auc = roc_auc_score(df_ecg['y_5y'], df_ecg['pred'])\n",
    "print(auc)"
   ]
  },
  {
   "cell_type": "code",
   "execution_count": 10,
   "metadata": {},
   "outputs": [
    {
     "name": "stdout",
     "output_type": "stream",
     "text": [
      "Index(['subject_id', 'ecg_time_x', 'path', 'afl', 'afib', 'sinus',\n",
      "       'aggregated_report', 'dt_af', 'y_5y', 'dt_max', 'sex', 'age_at_ecg',\n",
      "       'waveform_path', 'pred'],\n",
      "      dtype='object')\n"
     ]
    }
   ],
   "source": [
    "print(df_ecg.columns)"
   ]
  },
  {
   "cell_type": "code",
   "execution_count": 11,
   "metadata": {},
   "outputs": [],
   "source": [
    "df_ecg[['waveform_path']].to_csv('pred_waveform_path.csv.gz', compression='gzip', index=False)"
   ]
  }
 ],
 "metadata": {
  "kernelspec": {
   "display_name": "deepecg",
   "language": "python",
   "name": "python3"
  },
  "language_info": {
   "codemirror_mode": {
    "name": "ipython",
    "version": 3
   },
   "file_extension": ".py",
   "mimetype": "text/x-python",
   "name": "python",
   "nbconvert_exporter": "python",
   "pygments_lexer": "ipython3",
   "version": "3.8.19"
  }
 },
 "nbformat": 4,
 "nbformat_minor": 2
}
